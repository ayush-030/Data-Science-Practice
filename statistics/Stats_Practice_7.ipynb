{
  "nbformat": 4,
  "nbformat_minor": 0,
  "metadata": {
    "colab": {
      "provenance": [],
      "authorship_tag": "ABX9TyN3KNhNmDwfCyPu2iwyrK5G",
      "include_colab_link": true
    },
    "kernelspec": {
      "name": "python3",
      "display_name": "Python 3"
    },
    "language_info": {
      "name": "python"
    }
  },
  "cells": [
    {
      "cell_type": "markdown",
      "metadata": {
        "id": "view-in-github",
        "colab_type": "text"
      },
      "source": [
        "<a href=\"https://colab.research.google.com/github/ayush-030/Data-Science-Practice/blob/main/statistics/Stats_Practice_7.ipynb\" target=\"_parent\"><img src=\"https://colab.research.google.com/assets/colab-badge.svg\" alt=\"Open In Colab\"/></a>"
      ]
    },
    {
      "cell_type": "code",
      "execution_count": 1,
      "metadata": {
        "id": "OSXNIZej5fR7"
      },
      "outputs": [],
      "source": [
        "import scipy.stats as st\n",
        "import pandas as pd\n",
        "import numpy as np"
      ]
    },
    {
      "cell_type": "markdown",
      "source": [
        "# Hypothesis Testing"
      ],
      "metadata": {
        "id": "7uquN4AC9nir"
      }
    },
    {
      "cell_type": "markdown",
      "source": [
        "## Steps of Hypothesis Testing:\n",
        "\n",
        "1.   State null(H0) and alternative(H1) hypothesis\n",
        "2.   Choose level of significance(a)\n",
        "3.   Find critical values\n",
        "4.   Find test static\n",
        "5.   Draw your conclusion"
      ],
      "metadata": {
        "id": "QEKgy_JT9xsZ"
      }
    },
    {
      "cell_type": "markdown",
      "source": [
        "### Z Test Calculation"
      ],
      "metadata": {
        "id": "iDz2wB-rNM3f"
      }
    },
    {
      "cell_type": "code",
      "source": [
        "s_x = 90\n",
        "p_u = 82\n",
        "p_std = 20\n",
        "n = 81\n",
        "ap = 0.05"
      ],
      "metadata": {
        "id": "_-HO1WJOGHkR"
      },
      "execution_count": 2,
      "outputs": []
    },
    {
      "cell_type": "code",
      "source": [
        "z_cal = (s_x - p_u)/(p_std/np.sqrt(n))\n",
        "z_cal"
      ],
      "metadata": {
        "colab": {
          "base_uri": "https://localhost:8080/"
        },
        "id": "yyNxJc7GGxlG",
        "outputId": "d8f4f596-a5e5-4f4c-b4de-017e01896e57"
      },
      "execution_count": 3,
      "outputs": [
        {
          "output_type": "execute_result",
          "data": {
            "text/plain": [
              "np.float64(3.5999999999999996)"
            ]
          },
          "metadata": {},
          "execution_count": 3
        }
      ]
    },
    {
      "cell_type": "code",
      "source": [
        "z_table = st.norm.ppf(1-ap)\n",
        "z_table"
      ],
      "metadata": {
        "colab": {
          "base_uri": "https://localhost:8080/"
        },
        "id": "s2Fv63BxMUi9",
        "outputId": "c14b4a5c-dff6-4d57-a810-fef5b1b81303"
      },
      "execution_count": 4,
      "outputs": [
        {
          "output_type": "execute_result",
          "data": {
            "text/plain": [
              "np.float64(1.6448536269514722)"
            ]
          },
          "metadata": {},
          "execution_count": 4
        }
      ]
    },
    {
      "cell_type": "code",
      "source": [
        "if z_table < z_cal:\n",
        "  print(\"ha is right\")\n",
        "else:\n",
        "  print(\"h0 is right\")"
      ],
      "metadata": {
        "colab": {
          "base_uri": "https://localhost:8080/"
        },
        "id": "ooqcXfuCMwID",
        "outputId": "169d893d-983e-42c4-c6ef-82faf66c107b"
      },
      "execution_count": 5,
      "outputs": [
        {
          "output_type": "stream",
          "name": "stdout",
          "text": [
            "ha is right\n"
          ]
        }
      ]
    }
  ]
}